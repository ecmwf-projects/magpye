{
 "cells": [
  {
   "cell_type": "code",
   "execution_count": 1,
   "id": "fd4f30fe",
   "metadata": {},
   "outputs": [],
   "source": [
    "from ipywidgets import widgets\n",
    "\n",
    "import earthkit\n",
    "from earthkit.maps import Chart"
   ]
  },
  {
   "cell_type": "code",
   "execution_count": 2,
   "id": "7fe9329e",
   "metadata": {},
   "outputs": [
    {
     "data": {
      "text/html": [
       "<div>\n",
       "<style scoped>\n",
       "    .dataframe tbody tr th:only-of-type {\n",
       "        vertical-align: middle;\n",
       "    }\n",
       "\n",
       "    .dataframe tbody tr th {\n",
       "        vertical-align: top;\n",
       "    }\n",
       "\n",
       "    .dataframe thead th {\n",
       "        text-align: right;\n",
       "    }\n",
       "</style>\n",
       "<table border=\"1\" class=\"dataframe\">\n",
       "  <thead>\n",
       "    <tr style=\"text-align: right;\">\n",
       "      <th></th>\n",
       "      <th>centre</th>\n",
       "      <th>shortName</th>\n",
       "      <th>typeOfLevel</th>\n",
       "      <th>level</th>\n",
       "      <th>dataDate</th>\n",
       "      <th>dataTime</th>\n",
       "      <th>stepRange</th>\n",
       "      <th>dataType</th>\n",
       "      <th>number</th>\n",
       "      <th>gridType</th>\n",
       "    </tr>\n",
       "  </thead>\n",
       "  <tbody>\n",
       "    <tr>\n",
       "      <th>0</th>\n",
       "      <td>ecmf</td>\n",
       "      <td>2t</td>\n",
       "      <td>surface</td>\n",
       "      <td>0</td>\n",
       "      <td>20221001</td>\n",
       "      <td>0</td>\n",
       "      <td>0</td>\n",
       "      <td>an</td>\n",
       "      <td>0</td>\n",
       "      <td>regular_ll</td>\n",
       "    </tr>\n",
       "  </tbody>\n",
       "</table>\n",
       "</div>"
      ],
      "text/plain": [
       "  centre shortName typeOfLevel  level  dataDate  dataTime stepRange dataType  \\\n",
       "0   ecmf        2t     surface      0  20221001         0         0       an   \n",
       "\n",
       "   number    gridType  \n",
       "0       0  regular_ll  "
      ]
     },
     "execution_count": 2,
     "metadata": {},
     "output_type": "execute_result"
    }
   ],
   "source": [
    "data = earthkit.data.from_source(\"file\", \"era5.grib\")\n",
    "data.ls()"
   ]
  },
  {
   "cell_type": "markdown",
   "id": "b84b88ae",
   "metadata": {},
   "source": [
    "It's often highly convenient to do unit conversions at plot time. `earthkit-maps` offers a `units` argument to all of its main plotting functions, in order to maximise flexibility when plotting and comparing datasets with different units."
   ]
  },
  {
   "cell_type": "code",
   "execution_count": 3,
   "id": "29b14cec",
   "metadata": {},
   "outputs": [
    {
     "data": {
      "application/vnd.jupyter.widget-view+json": {
       "model_id": "34c5d59a48b3477498cc361bd1b73365",
       "version_major": 2,
       "version_minor": 0
      },
      "text/plain": [
       "VBox(children=(Dropdown(description='Units:', options=('Kelvin', 'Celsius', 'Fahrenheit'), value='Kelvin'), Ou…"
      ]
     },
     "execution_count": 3,
     "metadata": {},
     "output_type": "execute_result"
    }
   ],
   "source": [
    "units_dropdown = widgets.Dropdown(\n",
    "    options=[\"Kelvin\", \"Celsius\", \"Fahrenheit\"],\n",
    "    value=\"Kelvin\",\n",
    "    description=\"Units:\",\n",
    "    disabled=False,\n",
    ")\n",
    "\n",
    "def plot_temperature(units):\n",
    "    chart = Chart(domain=\"France\")\n",
    "    chart.shaded_contour(data, units=units)\n",
    "    chart.coastlines()\n",
    "    chart.borders()\n",
    "    chart.gridlines()\n",
    "    chart.legend()\n",
    "    chart.show()\n",
    "\n",
    "out = widgets.interactive_output(plot_temperature, {\"units\": units_dropdown})\n",
    "\n",
    "widgets.VBox([units_dropdown, out])"
   ]
  }
 ],
 "metadata": {
  "kernelspec": {
   "display_name": "DEVELOP",
   "language": "python",
   "name": "develop"
  },
  "language_info": {
   "codemirror_mode": {
    "name": "ipython",
    "version": 3
   },
   "file_extension": ".py",
   "mimetype": "text/x-python",
   "name": "python",
   "nbconvert_exporter": "python",
   "pygments_lexer": "ipython3",
   "version": "3.10.6"
  }
 },
 "nbformat": 4,
 "nbformat_minor": 5
}
