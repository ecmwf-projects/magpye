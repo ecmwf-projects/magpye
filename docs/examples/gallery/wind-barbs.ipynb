{
 "cells": [
  {
   "cell_type": "code",
   "execution_count": 1,
   "id": "db8b3024",
   "metadata": {},
   "outputs": [],
   "source": [
    "import earthkit.data\n",
    "import earthkit.maps"
   ]
  },
  {
   "cell_type": "code",
   "execution_count": 2,
   "id": "4a17fca8",
   "metadata": {},
   "outputs": [
    {
     "name": "stderr",
     "output_type": "stream",
     "text": [
      "2023-12-11 08:14:28,836 INFO Welcome to the CDS\n",
      "2023-12-11 08:14:28,836 INFO Sending request to https://cds.climate.copernicus.eu/api/v2/resources/reanalysis-era5-single-levels-monthly-means\n",
      "2023-12-11 08:14:29,021 INFO Request is queued\n",
      "2023-12-11 08:14:30,068 INFO Request is completed\n",
      "2023-12-11 08:14:30,070 INFO Downloading https://download-0021.copernicus-climate.eu/cache-compute-0021/cache/data0/adaptor.mars.internal-1702282469.469509-14789-17-830149e8-9def-4626-bbe5-b010dabe6166.grib to /var/folders/vt/7j2c2tmx4m14gn_sg3zpf5l00000gn/T/earthkit-data-mavj/cds-retriever-74eb6b20b2fb5f72c73559b793c978a60be2ff8c37ff810001a86c945a86145d.cache.tmp (4M)\n",
      "2023-12-11 08:14:30,957 INFO Download rate 4.5M/s                                                                                                                                                                                                                               \n"
     ]
    }
   ],
   "source": [
    "data = earthkit.data.from_source(\n",
    "    \"cds\", \"reanalysis-era5-single-levels-monthly-means\",\n",
    "    {\n",
    "        \"product_type\": \"monthly_averaged_reanalysis\",\n",
    "        \"variable\": ('10m_u_component_of_wind', '10m_v_component_of_wind'),\n",
    "        \"year\": [\"1993\"],\n",
    "        \"month\": \"12\",\n",
    "        \"time\": \"00:00\",\n",
    "    },\n",
    ")"
   ]
  },
  {
   "cell_type": "code",
   "execution_count": 3,
   "id": "41ac9755",
   "metadata": {},
   "outputs": [
    {
     "name": "stdout",
     "output_type": "stream",
     "text": [
      "GRIBReader(/var/folders/vt/7j2c2tmx4m14gn_sg3zpf5l00000gn/T/earthkit-data-mavj/cds-retriever-74eb6b20b2fb5f72c73559b793c978a60be2ff8c37ff810001a86c945a86145d.cache)\n"
     ]
    }
   ],
   "source": [
    "print(data)"
   ]
  },
  {
   "cell_type": "code",
   "execution_count": null,
   "id": "f2ae3f92",
   "metadata": {},
   "outputs": [],
   "source": [
    "chart = earthkit.maps.Chart(domain=\"Europe\", rows=1, columns=1)\n",
    "\n",
    "chart.add_subplot()\n",
    "chart[0].barbs(data)\n",
    "\n",
    "chart.land()\n",
    "chart.coastlines()\n",
    "chart.gridlines(linewidths=1, linestyle=\"solid\", color=\"red\")\n",
    "chart.borders()\n",
    "\n",
    "# chart.subplot_titles()\n",
    "\n",
    "chart.show()"
   ]
  },
  {
   "cell_type": "code",
   "execution_count": null,
   "id": "27fbdde4",
   "metadata": {},
   "outputs": [],
   "source": []
  }
 ],
 "metadata": {
  "kernelspec": {
   "display_name": "DEVELOP",
   "language": "python",
   "name": "develop"
  },
  "language_info": {
   "codemirror_mode": {
    "name": "ipython",
    "version": 3
   },
   "file_extension": ".py",
   "mimetype": "text/x-python",
   "name": "python",
   "nbconvert_exporter": "python",
   "pygments_lexer": "ipython3",
   "version": "3.10.6"
  }
 },
 "nbformat": 4,
 "nbformat_minor": 5
}
