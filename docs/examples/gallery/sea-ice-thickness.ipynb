{
 "cells": [
  {
   "cell_type": "code",
   "execution_count": 1,
   "id": "f1d274ea",
   "metadata": {},
   "outputs": [],
   "source": [
    "import earthkit.data\n",
    "import earthkit.maps"
   ]
  },
  {
   "cell_type": "code",
   "execution_count": 2,
   "id": "0bf2415b",
   "metadata": {},
   "outputs": [],
   "source": [
    "data = earthkit.data.from_source(\n",
    "    \"cds\", \n",
    "        'satellite-sea-ice-edge-type',\n",
    "        {\n",
    "            'variable': 'sea_ice_edge',\n",
    "            'region': 'northern_hemisphere',\n",
    "            'cdr_type': 'cdr',\n",
    "            'year': '2020',\n",
    "            'month': '09',\n",
    "            'day': '01',\n",
    "            'version': '2_0',\n",
    "        }\n",
    ")"
   ]
  },
  {
   "cell_type": "code",
   "execution_count": 3,
   "id": "1f29a82f",
   "metadata": {},
   "outputs": [
    {
     "data": {
      "text/html": [
       "<div>\n",
       "<style scoped>\n",
       "    .dataframe tbody tr th:only-of-type {\n",
       "        vertical-align: middle;\n",
       "    }\n",
       "\n",
       "    .dataframe tbody tr th {\n",
       "        vertical-align: top;\n",
       "    }\n",
       "\n",
       "    .dataframe thead th {\n",
       "        text-align: right;\n",
       "    }\n",
       "</style>\n",
       "<table border=\"1\" class=\"dataframe\">\n",
       "  <thead>\n",
       "    <tr style=\"text-align: right;\">\n",
       "      <th></th>\n",
       "      <th>variable</th>\n",
       "      <th>level</th>\n",
       "      <th>time</th>\n",
       "      <th>units</th>\n",
       "    </tr>\n",
       "  </thead>\n",
       "  <tbody>\n",
       "    <tr>\n",
       "      <th>0</th>\n",
       "      <td>ice_edge</td>\n",
       "      <td>None</td>\n",
       "      <td>2020-09-01 12:00:00</td>\n",
       "      <td>None</td>\n",
       "    </tr>\n",
       "    <tr>\n",
       "      <th>1</th>\n",
       "      <td>uncertainty</td>\n",
       "      <td>None</td>\n",
       "      <td>2020-09-01 12:00:00</td>\n",
       "      <td>1</td>\n",
       "    </tr>\n",
       "    <tr>\n",
       "      <th>2</th>\n",
       "      <td>status_flag</td>\n",
       "      <td>None</td>\n",
       "      <td>2020-09-01 12:00:00</td>\n",
       "      <td>1</td>\n",
       "    </tr>\n",
       "  </tbody>\n",
       "</table>\n",
       "</div>"
      ],
      "text/plain": [
       "      variable level                time units\n",
       "0     ice_edge  None 2020-09-01 12:00:00  None\n",
       "1  uncertainty  None 2020-09-01 12:00:00     1\n",
       "2  status_flag  None 2020-09-01 12:00:00     1"
      ]
     },
     "execution_count": 3,
     "metadata": {},
     "output_type": "execute_result"
    }
   ],
   "source": [
    "data.ls()"
   ]
  },
  {
   "cell_type": "code",
   "execution_count": 4,
   "id": "b4d8db5f",
   "metadata": {},
   "outputs": [
    {
     "data": {
      "text/plain": [
       "array([-5393.75, -5381.25, -5368.75, ...,  5368.75,  5381.25,  5393.75])"
      ]
     },
     "execution_count": 4,
     "metadata": {},
     "output_type": "execute_result"
    }
   ],
   "source": [
    "data[1]._metadata.geography.x()"
   ]
  },
  {
   "cell_type": "code",
   "execution_count": 7,
   "id": "da669e85",
   "metadata": {},
   "outputs": [
    {
     "name": "stdout",
     "output_type": "stream",
     "text": [
      "{'central_longitude': 0.0, 'central_latitude': 90.0}\n",
      "{'datum': 'WGS84', 'ellipse': 'WGS84'}\n",
      "{'central_longitude': 0.0, 'central_latitude': 90.0}\n",
      "{'datum': 'WGS84', 'ellipse': 'WGS84'}\n",
      "{'central_longitude': 0.0, 'central_latitude': 90.0}\n",
      "{'datum': 'WGS84', 'ellipse': 'WGS84'}\n"
     ]
    },
    {
     "data": {
      "image/png": "[encoded data removed]",
      "text/plain": [
       "<Figure size 900x750 with 1 Axes>"
      ]
     },
     "metadata": {},
     "output_type": "display_data"
    }
   ],
   "source": [
    "import cartopy.crs as ccrs\n",
    "\n",
    "crs = ccrs.LambertAzimuthalEqualArea(\n",
    "    central_latitude=90,\n",
    "    central_longitude=0,\n",
    "    false_easting=0,\n",
    "    false_northing=0,\n",
    ")\n",
    "\n",
    "chart = earthkit.maps.Chart()\n",
    "\n",
    "chart.pcolormesh(data[0])\n",
    "\n",
    "chart.coastlines()\n",
    "\n",
    "chart.show()"
   ]
  },
  {
   "cell_type": "code",
   "execution_count": null,
   "id": "548673bd",
   "metadata": {},
   "outputs": [],
   "source": []
  }
 ],
 "metadata": {
  "kernelspec": {
   "display_name": "DEVELOP",
   "language": "python",
   "name": "develop"
  },
  "language_info": {
   "codemirror_mode": {
    "name": "ipython",
    "version": 3
   },
   "file_extension": ".py",
   "mimetype": "text/x-python",
   "name": "python",
   "nbconvert_exporter": "python",
   "pygments_lexer": "ipython3",
   "version": "3.10.6"
  }
 },
 "nbformat": 4,
 "nbformat_minor": 5
}
